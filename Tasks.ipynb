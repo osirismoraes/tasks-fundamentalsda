{
 "cells": [
  {
   "cell_type": "markdown",
   "metadata": {},
   "source": [
    "# Tasks 2020 \n",
    "\n",
    "### Fundamentals of data analisys"
   ]
  },
  {
   "cell_type": "markdown",
   "metadata": {},
   "source": [
    "1. Write a Python function called counts that takes a list as input and returns a dictionary of unique items in the list as keys and the number of times each item appears as values."
   ]
  },
  {
   "cell_type": "markdown",
   "metadata": {},
   "source": [
    "* what lists are (because they are out of function) - definition of globla frame?\n",
    "\n",
    "\"A global variable is a variable that is accessible globally. A local variable is one that is only accessible to the current scope, such as temporary variables used in a single function definition.\" [1]\n",
    "\n",
    "In my code it includes a global variable (l) so that the parameter can be modified according to the study. However lists are changeable, so I had to make a set within the function. \n",
    "\n",
    "* what is a function?\n",
    "\n",
    "* what is a loop?\n",
    "* count and append methodologies\n",
    "* dict and zip methodologies\n",
    "\n",
    "\n",
    "[1] https://www.geeksforgeeks.org/global-local-variables-python/ \n",
    "[2] \n",
    "[3]\n"
   ]
  },
  {
   "cell_type": "code",
   "execution_count": 3,
   "metadata": {},
   "outputs": [],
   "source": [
    "l= ['a','b','c','a','b','c']\n",
    "d=[]\n",
    "e=[]\n",
    "    \n",
    "def counts ():\n",
    "    for x in set(l):\n",
    "        v=l.count(x)\n",
    "        d.append(x)\n",
    "        e.append(v)\n",
    "        r=dict(zip(d,e))\n",
    "    return r"
   ]
  },
  {
   "cell_type": "code",
   "execution_count": 4,
   "metadata": {},
   "outputs": [
    {
     "name": "stdout",
     "output_type": "stream",
     "text": [
      "{'a': 2, 'b': 2, 'c': 2}\n"
     ]
    }
   ],
   "source": [
    "print(counts())"
   ]
  },
  {
   "cell_type": "code",
   "execution_count": null,
   "metadata": {},
   "outputs": [],
   "source": []
  }
 ],
 "metadata": {
  "kernelspec": {
   "display_name": "Python 3",
   "language": "python",
   "name": "python3"
  },
  "language_info": {
   "codemirror_mode": {
    "name": "ipython",
    "version": 3
   },
   "file_extension": ".py",
   "mimetype": "text/x-python",
   "name": "python",
   "nbconvert_exporter": "python",
   "pygments_lexer": "ipython3",
   "version": "3.8.3"
  }
 },
 "nbformat": 4,
 "nbformat_minor": 4
}
