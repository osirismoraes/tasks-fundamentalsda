{
 "cells": [
  {
   "cell_type": "markdown",
   "metadata": {},
   "source": [
    "# Tasks 2020 \n",
    "\n",
    "### Fundamentals of data analisys"
   ]
  },
  {
   "cell_type": "markdown",
   "metadata": {},
   "source": [
    "Here you will find my submission for the solutions to the Tasks Assessment. The author is Osiris de Moraes (G00387829@gmit.ie)."
   ]
  },
  {
   "cell_type": "markdown",
   "metadata": {},
   "source": [
    "###### 1. Write a Python function called counts that takes a list as input and returns a dictionary of unique items in the list as keys and the number of times each item appears as values. So, the input ['A', 'A', 'B', 'C', 'A'] should have output {'A': 3, 'B': 1, 'C': 1} . Your code should not depend on any module from the standard library1 or otherwise. You should research the task first and include a description with references of your algorithm in the notebook."
   ]
  },
  {
   "cell_type": "markdown",
   "metadata": {},
   "source": [
    "* what lists are (because they are out of function) - definition of globla frame?\n",
    "\n",
    "\"A global variable is a variable that is accessible globally. A local variable is one that is only accessible to the current scope, such as temporary variables used in a single function definition.\" [1]\n",
    "\n",
    "In my code it includes a global variable (l) so that the parameter can be modified according to the study. However lists are changeable, so I had to make a set within the function. \n",
    "\n",
    "* what is a function?\n",
    "\n",
    "* what is a loop?\n",
    "* count and append methodologies\n",
    "* dict and zip methodologies\n",
    "\n",
    "\n",
    "[1] https://www.geeksforgeeks.org/global-local-variables-python/ \n",
    "[2] \n",
    "[3]\n"
   ]
  },
  {
   "cell_type": "code",
   "execution_count": 29,
   "metadata": {},
   "outputs": [],
   "source": [
    "l= ['a','b','c','a','b','c']\n",
    "drawn=[]\n",
    "score=[]\n",
    "    \n",
    "def counts (l):\n",
    "    for x in set(l):\n",
    "        item_count=l.count(x)\n",
    "        drawn.append(x)\n",
    "        score.append(item_count)\n",
    "        r=dict(zip(drawn,score))\n",
    "    return r"
   ]
  },
  {
   "cell_type": "code",
   "execution_count": 30,
   "metadata": {},
   "outputs": [
    {
     "data": {
      "text/plain": [
       "{'a': 2, 'c': 2, 'b': 2}"
      ]
     },
     "execution_count": 30,
     "metadata": {},
     "output_type": "execute_result"
    }
   ],
   "source": [
    "counts(l)"
   ]
  },
  {
   "cell_type": "code",
   "execution_count": 15,
   "metadata": {},
   "outputs": [
    {
     "data": {
      "text/plain": [
       "{'b': 1, 'a': 2, 'c': 2, 1: 1, 2: 1, 3: 1, 4: 1}"
      ]
     },
     "execution_count": 15,
     "metadata": {},
     "output_type": "execute_result"
    }
   ],
   "source": [
    "counts([1,2,3,4,\"b\",\"c\",\"c\"])"
   ]
  },
  {
   "cell_type": "markdown",
   "metadata": {},
   "source": [
    "##### 2.Write a Python function called dicerolls that simulates rolling dice. Your function should take two parameters: the number of dice k and the number of times to roll the dice n. The function should simulate randomly rolling k dice n times, keeping track of each total face value. It should then return a dictionary with the number of times each possible total face value occurred. So, calling the function as diceroll(k=2, n=1000) should return a dictionary like: {2:19,3:50,4:82,5:112,6:135,7:174,8:133,9:114,10:75,11:70,12:36}\n"
   ]
  },
  {
   "cell_type": "code",
   "execution_count": 74,
   "metadata": {},
   "outputs": [
    {
     "name": "stdout",
     "output_type": "stream",
     "text": [
      "{2: 6, 3: 4, 4: 14, 5: 11, 6: 7, 7: 13, 8: 7, 9: 8, 10: 14, 11: 11, 12: 5}\n"
     ]
    }
   ],
   "source": [
    "import random \n",
    "\n",
    "dices=[]\n",
    "drawn=[]\n",
    "score=[]\n",
    "\n",
    "def dicerolls(k,n):\n",
    "    add_up = 1\n",
    "    first = 1*k\n",
    "    last = 6*k\n",
    "    while k > 0:\n",
    "        for x in range(n):\n",
    "            add_up *= random.randint(first, last)\n",
    "            dices.append(add_up)\n",
    "            add_up = 1\n",
    "        return counts(dices)\n",
    "    \n",
    "\n",
    "def counts(dices):\n",
    "    for x in set(dices):\n",
    "        item_count=dices.count(x)\n",
    "        drawn.append(x)\n",
    "        score.append(item_count)\n",
    "        dic=dict(zip(drawn,score))\n",
    "    return dic\n",
    "\n",
    "print(dicerolls(2,100))"
   ]
  },
  {
   "cell_type": "code",
   "execution_count": null,
   "metadata": {},
   "outputs": [],
   "source": []
  },
  {
   "cell_type": "code",
   "execution_count": null,
   "metadata": {},
   "outputs": [],
   "source": []
  },
  {
   "cell_type": "code",
   "execution_count": null,
   "metadata": {},
   "outputs": [],
   "source": []
  }
 ],
 "metadata": {
  "kernelspec": {
   "display_name": "Python 3",
   "language": "python",
   "name": "python3"
  },
  "language_info": {
   "codemirror_mode": {
    "name": "ipython",
    "version": 3
   },
   "file_extension": ".py",
   "mimetype": "text/x-python",
   "name": "python",
   "nbconvert_exporter": "python",
   "pygments_lexer": "ipython3",
   "version": "3.8.3"
  }
 },
 "nbformat": 4,
 "nbformat_minor": 4
}
