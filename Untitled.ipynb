{
 "cells": [
  {
   "cell_type": "code",
   "execution_count": 16,
   "metadata": {},
   "outputs": [],
   "source": [
    "import random \n",
    "\n",
    "dices=[]\n",
    "drawn=[]\n",
    "score=[]\n",
    "\n",
    "def dicerolls(k,n):\n",
    "    add_up = 1\n",
    "    first = 1*k\n",
    "    last = 6*k\n",
    "    while k > 0:\n",
    "        for x in range(n):\n",
    "            add_up *= random.randint(first, last)\n",
    "            dices.append(add_up)\n",
    "            add_up = 1\n",
    "        return counts(dices)\n",
    "    \n",
    "\n",
    "def counts(dices):\n",
    "    for x in set(dices):\n",
    "        item_count=dices.count(x)\n",
    "        drawn.append(x)\n",
    "        score.append(item_count)\n",
    "        dic=dict(zip(drawn,score))\n",
    "    return dic\n",
    "    "
   ]
  },
  {
   "cell_type": "code",
   "execution_count": 19,
   "metadata": {},
   "outputs": [
    {
     "data": {
      "text/plain": [
       "{130: 6,\n",
       " 135: 2,\n",
       " 140: 5,\n",
       " 145: 4,\n",
       " 19: 1,\n",
       " 150: 5,\n",
       " 25: 5,\n",
       " 30: 3,\n",
       " 35: 6,\n",
       " 40: 3,\n",
       " 45: 3,\n",
       " 50: 6,\n",
       " 55: 2,\n",
       " 60: 2,\n",
       " 65: 2,\n",
       " 70: 7,\n",
       " 75: 1,\n",
       " 80: 1,\n",
       " 85: 5,\n",
       " 90: 5,\n",
       " 95: 5,\n",
       " 100: 1,\n",
       " 105: 8,\n",
       " 110: 1,\n",
       " 115: 8,\n",
       " 120: 1,\n",
       " 125: 2,\n",
       " 1: 11,\n",
       " 3: 16,\n",
       " 4: 38,\n",
       " 5: 14,\n",
       " 6: 24,\n",
       " 2: 12,\n",
       " 8: 5,\n",
       " 10: 7,\n",
       " 12: 14,\n",
       " 14: 11,\n",
       " 16: 14,\n",
       " 18: 9,\n",
       " 20: 11,\n",
       " 22: 6,\n",
       " 24: 8}"
      ]
     },
     "execution_count": 19,
     "metadata": {},
     "output_type": "execute_result"
    }
   ],
   "source": [
    "dicerolls(2,100)"
   ]
  },
  {
   "cell_type": "code",
   "execution_count": null,
   "metadata": {},
   "outputs": [],
   "source": []
  },
  {
   "cell_type": "code",
   "execution_count": null,
   "metadata": {},
   "outputs": [],
   "source": []
  }
 ],
 "metadata": {
  "kernelspec": {
   "display_name": "Python 3",
   "language": "python",
   "name": "python3"
  },
  "language_info": {
   "codemirror_mode": {
    "name": "ipython",
    "version": 3
   },
   "file_extension": ".py",
   "mimetype": "text/x-python",
   "name": "python",
   "nbconvert_exporter": "python",
   "pygments_lexer": "ipython3",
   "version": "3.8.3"
  }
 },
 "nbformat": 4,
 "nbformat_minor": 4
}
